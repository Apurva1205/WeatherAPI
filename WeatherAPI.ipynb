{
 "cells": [
  {
   "cell_type": "code",
   "execution_count": 1,
   "id": "b006b9f7",
   "metadata": {},
   "outputs": [
    {
     "name": "stdout",
     "output_type": "stream",
     "text": [
      "Enter the city name: MUMBAI\n",
      "Weather forecast for MUMBAI:\n",
      "Date and Time: 2023-06-04 20:08:05\n",
      "Weather: Haze\n",
      "Description: haze\n",
      "Temperature: 30.99 °C / 87.78 °F\n",
      "Humidity: 74%\n",
      "Wind Speed: 3.6 m/s\n"
     ]
    }
   ],
   "source": [
    "import requests\n",
    "import json\n",
    "from datetime import datetime\n",
    "\n",
    "API_KEY = \"cc37a6f7e541ffc0922a97b991831924\"\n",
    "\n",
    "def get_weather(city):\n",
    "    url = f\"http://api.openweathermap.org/data/2.5/weather?q={city}&appid={API_KEY}\"\n",
    "\n",
    "    try:\n",
    "        response = requests.get(url)\n",
    "        response.raise_for_status()\n",
    "        data = response.json()\n",
    "\n",
    "        # Extract relevant weather information\n",
    "        weather = data[\"weather\"][0][\"main\"]\n",
    "        description = data[\"weather\"][0][\"description\"]\n",
    "        temperature = data[\"main\"][\"temp\"]\n",
    "        humidity = data[\"main\"][\"humidity\"]\n",
    "        wind_speed = data[\"wind\"][\"speed\"]\n",
    "\n",
    "        # Convert temperature from Kelvin to Celsius and Fahrenheit\n",
    "        temperature_celsius = round(temperature - 273.15, 2)\n",
    "        temperature_fahrenheit = round((temperature - 273.15) * 9/5 + 32, 2)\n",
    "\n",
    "        # Format date and time\n",
    "        timestamp = data[\"dt\"]\n",
    "        date_time = datetime.fromtimestamp(timestamp).strftime(\"%Y-%m-%d %H:%M:%S\")\n",
    "\n",
    "        # Print weather forecast with additional details\n",
    "        print(f\"Weather forecast for {city}:\")\n",
    "        print(f\"Date and Time: {date_time}\")\n",
    "        print(f\"Weather: {weather}\")\n",
    "        print(f\"Description: {description}\")\n",
    "        print(f\"Temperature: {temperature_celsius} °C / {temperature_fahrenheit} °F\")\n",
    "        print(f\"Humidity: {humidity}%\")\n",
    "        print(f\"Wind Speed: {wind_speed} m/s\")\n",
    "\n",
    "    except requests.exceptions.RequestException as e:\n",
    "        print(\"An error occurred while fetching weather data:\", e)\n",
    "\n",
    "if __name__ == \"__main__\":\n",
    "    city_name = input(\"Enter the city name: \")\n",
    "    get_weather(city_name)\n"
   ]
  },
  {
   "cell_type": "code",
   "execution_count": null,
   "id": "ba1a409d",
   "metadata": {},
   "outputs": [],
   "source": []
  }
 ],
 "metadata": {
  "kernelspec": {
   "display_name": "Python 3 (ipykernel)",
   "language": "python",
   "name": "python3"
  },
  "language_info": {
   "codemirror_mode": {
    "name": "ipython",
    "version": 3
   },
   "file_extension": ".py",
   "mimetype": "text/x-python",
   "name": "python",
   "nbconvert_exporter": "python",
   "pygments_lexer": "ipython3",
   "version": "3.9.13"
  }
 },
 "nbformat": 4,
 "nbformat_minor": 5
}
